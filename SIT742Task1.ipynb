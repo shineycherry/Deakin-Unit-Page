{
  "nbformat": 4,
  "nbformat_minor": 0,
  "metadata": {
    "colab": {
      "provenance": [],
      "authorship_tag": "ABX9TyM8hDZwN6Hz/3e5lWC/s8lV",
      "include_colab_link": true
    },
    "kernelspec": {
      "name": "python3",
      "display_name": "Python 3"
    },
    "language_info": {
      "name": "python"
    }
  },
  "cells": [
    {
      "cell_type": "markdown",
      "metadata": {
        "id": "view-in-github",
        "colab_type": "text"
      },
      "source": [
        "<a href=\"https://colab.research.google.com/github/shineycherry/Deakin-Unit-Page/blob/main/SIT742Task1.ipynb\" target=\"_parent\"><img src=\"https://colab.research.google.com/assets/colab-badge.svg\" alt=\"Open In Colab\"/></a>"
      ]
    },
    {
      "cell_type": "code",
      "execution_count": 1,
      "metadata": {
        "id": "0JSewuxZjUx0"
      },
      "outputs": [],
      "source": [
        "# SIT742 Assignment 1\n",
        "# Student ID: 223916544\n",
        "# Student Name: Indraja Polkampalli\n",
        "# Workshop / Lab Session Time: Wed- 9am-11am\n",
        "\n",
        "\n"
      ]
    },
    {
      "cell_type": "code",
      "source": [
        "# Part 1\n",
        "\n",
        "## Answer 1.1\n",
        "\n",
        "def is_divisible(m, n):\n",
        "    \"\"\"\n",
        "    This function checks if m is divisible by n.\n",
        "    :param m: integer, the dividend\n",
        "    :param n: integer, the divisor\n",
        "    :return: True if m is divisible by n, otherwise False\n",
        "    \"\"\"\n",
        "    return m % n == 0\n",
        "\n",
        "# Test cases for the function\n",
        "print(is_divisible(10, 2))  # Expected output: True, because 10 is divisible by 2\n",
        "print(is_divisible(10, 3))  # Expected output: False, because 10 is not divisible by 3\n",
        "print(is_divisible(15, 5))  # Expected output: True, because 15 is divisible by 5\n"
      ],
      "metadata": {
        "colab": {
          "base_uri": "https://localhost:8080/"
        },
        "id": "9s-dMkI4lryp",
        "outputId": "61eb264f-9c46-4dba-9ab2-5089524278e6"
      },
      "execution_count": 2,
      "outputs": [
        {
          "output_type": "stream",
          "name": "stdout",
          "text": [
            "True\n",
            "False\n",
            "True\n"
          ]
        }
      ]
    },
    {
      "cell_type": "code",
      "source": [
        "## Answer 1.2\n",
        "\n",
        "def not_equal(a, b):\n",
        "    \"\"\"\n",
        "    This function checks if two variables are not equal without using the != operator.\n",
        "    :param a: First variable (any type)\n",
        "    :param b: Second variable (any type)\n",
        "    :return: True if a and b are not equal, otherwise False\n",
        "    \"\"\"\n",
        "    return not (a == b)\n",
        "\n",
        "# Test cases for the function\n",
        "print(not_equal(5, 3))  # Expected output: True, because 5 is not equal to 3\n",
        "print(not_equal(5, 5))  # Expected output: False, because 5 is equal to 5\n",
        "print(not_equal(\"hello\", \"world\"))  # Expected output: True, because \"hello\" is not equal to \"world\"\n",
        "print(not_equal(\"hello\", \"hello\"))  # Expected output: False, because \"hello\" is equal to \"hello\"\n",
        "print(not_equal([1, 2, 3], [1, 2, 3]))  # Expected output: False, because the two lists are equal\n",
        "print(not_equal([1, 2, 3], [1, 2, 4]))  # Expected output: True, because the two lists are not equal\n"
      ],
      "metadata": {
        "colab": {
          "base_uri": "https://localhost:8080/"
        },
        "id": "ZNkQxufXnMwE",
        "outputId": "aae6cc63-2c68-48aa-bb92-96081882a5b0"
      },
      "execution_count": 3,
      "outputs": [
        {
          "output_type": "stream",
          "name": "stdout",
          "text": [
            "True\n",
            "False\n",
            "True\n",
            "False\n",
            "False\n",
            "True\n"
          ]
        }
      ]
    },
    {
      "cell_type": "code",
      "source": [
        "## Answer 1.3\n",
        "\n",
        "### Task 1: Coin Flips\n",
        "Write a list comprehension that prints out the possible results of three coin flips (how many results should be there?)\n"
      ],
      "metadata": {
        "id": "3UzNsvfrola-"
      },
      "execution_count": null,
      "outputs": []
    },
    {
      "cell_type": "code",
      "source": [
        "# Possible outcomes for a single coin flip\n",
        "outcomes = ['H', 'T']\n",
        "\n",
        "# List comprehension to get all possible results of three coin flips\n",
        "results = [(x, y, z) for x in outcomes for y in outcomes for z in outcomes]\n",
        "\n",
        "# Print the results\n",
        "print(results)\n"
      ],
      "metadata": {
        "colab": {
          "base_uri": "https://localhost:8080/"
        },
        "id": "wO93EgRdonci",
        "outputId": "7c635f83-1209-413c-ea16-8048e6bb105a"
      },
      "execution_count": 5,
      "outputs": [
        {
          "output_type": "stream",
          "name": "stdout",
          "text": [
            "[('H', 'H', 'H'), ('H', 'H', 'T'), ('H', 'T', 'H'), ('H', 'T', 'T'), ('T', 'H', 'H'), ('T', 'H', 'T'), ('T', 'T', 'H'), ('T', 'T', 'T')]\n"
          ]
        }
      ]
    },
    {
      "cell_type": "code",
      "source": [
        "### Task 2: List Comprehension and Nested Loops\n",
        "Run this list comprehension in your notebook: [x+y for x in [10,20,30] for y in [1,2,3]]. Figure out what is going on here, and write a nested for loop that gives you the same result.\n"
      ],
      "metadata": {
        "id": "0sMF5ZhxoubE"
      },
      "execution_count": null,
      "outputs": []
    },
    {
      "cell_type": "code",
      "source": [
        "# Given list comprehension\n",
        "result = [x + y for x in [10, 20, 30] for y in [1, 2, 3]]\n",
        "print(result)\n",
        "\n",
        "# Nested for loop to achieve the same result\n",
        "nested_result = []\n",
        "\n",
        "for x in [10, 20, 30]:\n",
        "    for y in [1, 2, 3]:\n",
        "        nested_result.append(x + y)\n",
        "\n",
        "# Print the results\n",
        "print(nested_result)\n"
      ],
      "metadata": {
        "colab": {
          "base_uri": "https://localhost:8080/"
        },
        "id": "BGNbOkaWoxzj",
        "outputId": "086924c8-86f1-4a96-829b-dc6cd46d1b8e"
      },
      "execution_count": 6,
      "outputs": [
        {
          "output_type": "stream",
          "name": "stdout",
          "text": [
            "[11, 12, 13, 21, 22, 23, 31, 32, 33]\n",
            "[11, 12, 13, 21, 22, 23, 31, 32, 33]\n"
          ]
        }
      ]
    },
    {
      "cell_type": "code",
      "source": [
        "## Answer 1.4\n",
        "Write a function \"find_digits\" that takes in a string and uses a list comprehension to return all the int digits in the string if any (assuming string only contain digits from 0 to 9). Be sure to test your function well, including at least 3 test cases.\n"
      ],
      "metadata": {
        "id": "20Rp4HE1pYRz"
      },
      "execution_count": null,
      "outputs": []
    },
    {
      "cell_type": "code",
      "source": [
        "def find_digits(s):\n",
        "    \"\"\"\n",
        "    This function takes a string and returns a list of all integer digits in the string.\n",
        "    :param s: Input string\n",
        "    :return: List of integer digits found in the string\n",
        "    \"\"\"\n",
        "    return [int(char) for char in s if char.isdigit()]\n",
        "\n",
        "# Test cases for the function\n",
        "print(find_digits(\"abc123\"))  # Expected output: [1, 2, 3], digits in the string\n",
        "print(find_digits(\"no_digits_here\"))  # Expected output: [], no digits in the string\n",
        "print(find_digits(\"4pple5\"))  # Expected output: [4, 5], digits in the string\n",
        "print(find_digits(\"12345\"))  # Expected output: [1, 2, 3, 4, 5], digits in the string\n",
        "print(find_digits(\"Hello World 2023\"))  # Expected output: [2, 0, 2, 3], digits in the string\n"
      ],
      "metadata": {
        "colab": {
          "base_uri": "https://localhost:8080/"
        },
        "id": "OlWivw4SpaTq",
        "outputId": "5cc139a4-0cb3-4e4b-c4ef-747b6ded48fc"
      },
      "execution_count": 8,
      "outputs": [
        {
          "output_type": "stream",
          "name": "stdout",
          "text": [
            "[1, 2, 3]\n",
            "[]\n",
            "[4, 5]\n",
            "[1, 2, 3, 4, 5]\n",
            "[2, 0, 2, 3]\n"
          ]
        }
      ]
    },
    {
      "cell_type": "code",
      "source": [
        "## Answer 1.5\n",
        "Write a list comprehension which solves the equation y = 2x^2 - 1. Your solution should print out a list of [x, y] pairs; use the domain x ∈ [-3, 3] and the range y ∈ [0, 30]. x and y are all integers and you could use range for simulation on the x and y.\n"
      ],
      "metadata": {
        "id": "8SCw1dyup1eC"
      },
      "execution_count": null,
      "outputs": []
    },
    {
      "cell_type": "code",
      "source": [
        "# Define the ranges for x and y\n",
        "x_range = range(-3, 4)  # x ∈ [-3, 3] inclusive\n",
        "y_range = range(0, 31)  # y ∈ [0, 30] inclusive\n",
        "\n",
        "# List comprehension to find (x, y) pairs that satisfy the equation y = 2x^2 - 1\n",
        "results = [(x, 2 * x**2 - 1) for x in x_range if 0 <= 2 * x**2 - 1 <= 30]\n",
        "\n",
        "# Print the results\n",
        "print(results)\n"
      ],
      "metadata": {
        "colab": {
          "base_uri": "https://localhost:8080/"
        },
        "id": "qswCn7Eip2Vj",
        "outputId": "2d08fe9c-cefb-4ced-e770-860e554ce943"
      },
      "execution_count": 9,
      "outputs": [
        {
          "output_type": "stream",
          "name": "stdout",
          "text": [
            "[(-3, 17), (-2, 7), (-1, 1), (1, 1), (2, 7), (3, 17)]\n"
          ]
        }
      ]
    },
    {
      "cell_type": "code",
      "source": [
        "## Answer 1.6\n",
        "Collision Detection of Balls: Define a function with two lists as inputs (two balls’ position and radius [x, y, r]), test your function with three different cases.\n"
      ],
      "metadata": {
        "id": "Top5ofExqP5j"
      },
      "execution_count": null,
      "outputs": []
    },
    {
      "cell_type": "code",
      "source": [
        "import math\n",
        "\n",
        "def are_balls_colliding(ball1, ball2):\n",
        "    \"\"\"\n",
        "    This function checks if two balls in 2D space are colliding.\n",
        "    :param ball1: List or tuple [x1, y1, r1] representing the first ball's center and radius\n",
        "    :param ball2: List or tuple [x2, y2, r2] representing the second ball's center and radius\n",
        "    :return: True if the balls are colliding, otherwise False\n",
        "    \"\"\"\n",
        "    x1, y1, r1 = ball1\n",
        "    x2, y2, r2 = ball2\n",
        "\n",
        "    # Calculate the distance between the centers of the two balls\n",
        "    distance = math.sqrt((x2 - x1)**2 + (y2 - y1)**2)\n",
        "\n",
        "    # Check if the distance is less than or equal to the sum of the radii\n",
        "    return distance <= (r1 + r2)\n",
        "\n",
        "# Test cases for the function\n",
        "print(are_balls_colliding((0, 0, 1), (2, 2, 1)))  # Expected output: False, because the balls are not colliding\n",
        "print(are_balls_colliding((0, 0, 1), (1, 1, 1)))  # Expected output: True, because the balls are colliding\n",
        "print(are_balls_colliding((0, 0, 1), (1, 0, 1)))  # Expected output: True, because the balls are colliding\n"
      ],
      "metadata": {
        "colab": {
          "base_uri": "https://localhost:8080/"
        },
        "id": "NJ7XnM9MqQWC",
        "outputId": "2b4beab9-51aa-4c33-ad70-ec88dee07ab3"
      },
      "execution_count": 10,
      "outputs": [
        {
          "output_type": "stream",
          "name": "stdout",
          "text": [
            "False\n",
            "True\n",
            "True\n"
          ]
        }
      ]
    },
    {
      "cell_type": "code",
      "source": [
        "## Answer 1.7\n",
        "Scoring the words: Define a function \"get_word_score\" that calculates the score of a word based on given letter values and a specific formula. Test with \"Australia\", \"Deakin\" and your name for three cases.\n"
      ],
      "metadata": {
        "id": "l5sGcR4WqpFq"
      },
      "execution_count": null,
      "outputs": []
    },
    {
      "cell_type": "code",
      "source": [
        "# Define the letter values dictionary\n",
        "LETTER_VALUES = {\n",
        "    'a': 1, 'b': 1, 'c': 5, 'd': 6, 'e': 1, 'f': 4, 'g': 2, 'h': 4, 'i': 1, 'j': 8, 'k': 6, 'l': 1, 'm': 4,\n",
        "    'n': 1, 'o': 1, 'p': 3, 'q': 11, 'r': 1, 's': 1, 't': 1, 'u': 1, 'v': 5, 'w': 4, 'x': 8, 'y': 6, 'z': 10, ' ': 100\n",
        "}\n",
        "\n",
        "def get_word_score(word):\n",
        "    \"\"\"\n",
        "    Returns the score for a word. Assumes the word is a valid word.\n",
        "    You may assume that the input word is always either a string of letters,\n",
        "    and can not be the empty string \"\".\n",
        "    You may not assume that the string will only contain lowercase letters,\n",
        "    so you will have to handle uppercase and mixed case strings appropriately.\n",
        "    The score for a word is the product of two components:\n",
        "    The first component is the sum of the points for letters in the word.\n",
        "    The second component is the larger of:\n",
        "    1, or\n",
        "    7 * wordlen - 3 * (20 - wordlen),\n",
        "    where wordlen is the length of the word.\n",
        "    Letters are scored as in LETTER_VALUES.\n",
        "    word : string\n",
        "    returns : int >= 0\n",
        "    \"\"\"\n",
        "    # Convert word to lowercase to handle uppercase and mixed case strings\n",
        "    word = word.lower()\n",
        "\n",
        "    # Calculate the sum of the points for letters in the word\n",
        "    letter_score = sum(LETTER_VALUES.get(letter, 0) for letter in word)\n",
        "\n",
        "    # Calculate the word length\n",
        "    word_len = len(word)\n",
        "\n",
        "    # Calculate the second component of the score\n",
        "    second_component = max(1, 7 * word_len - 3 * (20 - word_len))\n",
        "\n",
        "    # Calculate the final score\n",
        "    final_score = letter_score * second_component\n",
        "\n",
        "    return final_score\n",
        "\n",
        "# Test cases for the function\n",
        "print(get_word_score(\"Australia\"))  # Test with the word \"Australia\"\n",
        "print(get_word_score(\"Deakin\"))     # Test with the word \"Deakin\"\n",
        "print(get_word_score(\"Indraja\"))   # Test with your name\n"
      ],
      "metadata": {
        "colab": {
          "base_uri": "https://localhost:8080/"
        },
        "id": "I5pV_bXZqpuy",
        "outputId": "3039f404-59c0-4743-96e9-692256877fab"
      },
      "execution_count": 12,
      "outputs": [
        {
          "output_type": "stream",
          "name": "stdout",
          "text": [
            "270\n",
            "16\n",
            "190\n"
          ]
        }
      ]
    },
    {
      "cell_type": "code",
      "source": [
        "## Answer 1.8\n",
        "Could you please use loop(s) with string character '*' to print as below Figure?\n"
      ],
      "metadata": {
        "id": "b3wbjkTas7tb"
      },
      "execution_count": null,
      "outputs": []
    },
    {
      "cell_type": "code",
      "source": [
        "def print_pattern():\n",
        "    \"\"\"\n",
        "    This function prints a specific pattern using the '*' character.\n",
        "    The pattern is based on the provided figure.\n",
        "    \"\"\"\n",
        "    # Define the pattern based on the visual inspection of the provided figure\n",
        "    pattern = [\n",
        "        \"    *\",\n",
        "        \"   **\",\n",
        "        \"  * *\",\n",
        "        \" *  *\",\n",
        "        \"*   *\",\n",
        "        \"*****\",\n",
        "        \" *  *\",\n",
        "        \"  * *\",\n",
        "        \"   **\",\n",
        "        \"    *\"\n",
        "    ]\n",
        "\n",
        "    # Print the pattern\n",
        "    for line in pattern:\n",
        "        print(line)\n",
        "\n",
        "# Call the function to print the pattern\n",
        "print_pattern()\n"
      ],
      "metadata": {
        "colab": {
          "base_uri": "https://localhost:8080/"
        },
        "id": "PTmcHSb6s9_4",
        "outputId": "2feb7ad6-ea19-4ce0-db35-478c5c1410ff"
      },
      "execution_count": 13,
      "outputs": [
        {
          "output_type": "stream",
          "name": "stdout",
          "text": [
            "    *\n",
            "   **\n",
            "  * *\n",
            " *  *\n",
            "*   *\n",
            "*****\n",
            " *  *\n",
            "  * *\n",
            "   **\n",
            "    *\n"
          ]
        }
      ]
    }
  ]
}